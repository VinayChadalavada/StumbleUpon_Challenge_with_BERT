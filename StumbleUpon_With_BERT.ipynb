{
  "nbformat": 4,
  "nbformat_minor": 0,
  "metadata": {
    "colab": {
      "name": "StumbleUpon_With_BERT.ipynb",
      "provenance": []
    },
    "kernelspec": {
      "name": "python3",
      "display_name": "Python 3"
    }
  },
  "cells": [
    {
      "cell_type": "markdown",
      "metadata": {
        "id": "nCGIsoy7IrPC"
      },
      "source": [
        "Loading the utilities"
      ]
    },
    {
      "cell_type": "code",
      "metadata": {
        "id": "tDebeTrVCYbe"
      },
      "source": [
        "import tensorflow as tf\r\n",
        "import re\r\n",
        "import pandas as pd\r\n",
        "import nltk\r\n",
        "import numpy as np\r\n",
        "import tensorflow_hub as hub\r\n",
        "import tensorflow_text as text #prereqprerequisite for bert preprocess\r\n",
        "from sklearn.model_selection import train_test_split"
      ],
      "execution_count": 58,
      "outputs": []
    },
    {
      "cell_type": "code",
      "metadata": {
        "colab": {
          "base_uri": "https://localhost:8080/"
        },
        "id": "Avz8RZCNoyjA",
        "outputId": "56344224-b2d8-4862-d499-4b81b1e33a5a"
      },
      "source": [
        "!pip install -q tensorflow-text"
      ],
      "execution_count": 22,
      "outputs": [
        {
          "output_type": "stream",
          "text": [
            "\u001b[?25l\r\u001b[K     |                                | 10kB 18.1MB/s eta 0:00:01\r\u001b[K     |▏                               | 20kB 20.8MB/s eta 0:00:01\r\u001b[K     |▎                               | 30kB 17.1MB/s eta 0:00:01\r\u001b[K     |▍                               | 40kB 19.4MB/s eta 0:00:01\r\u001b[K     |▌                               | 51kB 19.5MB/s eta 0:00:01\r\u001b[K     |▋                               | 61kB 21.3MB/s eta 0:00:01\r\u001b[K     |▊                               | 71kB 13.0MB/s eta 0:00:01\r\u001b[K     |▉                               | 81kB 12.8MB/s eta 0:00:01\r\u001b[K     |▉                               | 92kB 11.9MB/s eta 0:00:01\r\u001b[K     |█                               | 102kB 11.8MB/s eta 0:00:01\r\u001b[K     |█                               | 112kB 11.8MB/s eta 0:00:01\r\u001b[K     |█▏                              | 122kB 11.8MB/s eta 0:00:01\r\u001b[K     |█▎                              | 133kB 11.8MB/s eta 0:00:01\r\u001b[K     |█▍                              | 143kB 11.8MB/s eta 0:00:01\r\u001b[K     |█▌                              | 153kB 11.8MB/s eta 0:00:01\r\u001b[K     |█▋                              | 163kB 11.8MB/s eta 0:00:01\r\u001b[K     |█▋                              | 174kB 11.8MB/s eta 0:00:01\r\u001b[K     |█▊                              | 184kB 11.8MB/s eta 0:00:01\r\u001b[K     |█▉                              | 194kB 11.8MB/s eta 0:00:01\r\u001b[K     |██                              | 204kB 11.8MB/s eta 0:00:01\r\u001b[K     |██                              | 215kB 11.8MB/s eta 0:00:01\r\u001b[K     |██▏                             | 225kB 11.8MB/s eta 0:00:01\r\u001b[K     |██▎                             | 235kB 11.8MB/s eta 0:00:01\r\u001b[K     |██▍                             | 245kB 11.8MB/s eta 0:00:01\r\u001b[K     |██▍                             | 256kB 11.8MB/s eta 0:00:01\r\u001b[K     |██▌                             | 266kB 11.8MB/s eta 0:00:01\r\u001b[K     |██▋                             | 276kB 11.8MB/s eta 0:00:01\r\u001b[K     |██▊                             | 286kB 11.8MB/s eta 0:00:01\r\u001b[K     |██▉                             | 296kB 11.8MB/s eta 0:00:01\r\u001b[K     |███                             | 307kB 11.8MB/s eta 0:00:01\r\u001b[K     |███                             | 317kB 11.8MB/s eta 0:00:01\r\u001b[K     |███▏                            | 327kB 11.8MB/s eta 0:00:01\r\u001b[K     |███▏                            | 337kB 11.8MB/s eta 0:00:01\r\u001b[K     |███▎                            | 348kB 11.8MB/s eta 0:00:01\r\u001b[K     |███▍                            | 358kB 11.8MB/s eta 0:00:01\r\u001b[K     |███▌                            | 368kB 11.8MB/s eta 0:00:01\r\u001b[K     |███▋                            | 378kB 11.8MB/s eta 0:00:01\r\u001b[K     |███▊                            | 389kB 11.8MB/s eta 0:00:01\r\u001b[K     |███▉                            | 399kB 11.8MB/s eta 0:00:01\r\u001b[K     |████                            | 409kB 11.8MB/s eta 0:00:01\r\u001b[K     |████                            | 419kB 11.8MB/s eta 0:00:01\r\u001b[K     |████                            | 430kB 11.8MB/s eta 0:00:01\r\u001b[K     |████▏                           | 440kB 11.8MB/s eta 0:00:01\r\u001b[K     |████▎                           | 450kB 11.8MB/s eta 0:00:01\r\u001b[K     |████▍                           | 460kB 11.8MB/s eta 0:00:01\r\u001b[K     |████▌                           | 471kB 11.8MB/s eta 0:00:01\r\u001b[K     |████▋                           | 481kB 11.8MB/s eta 0:00:01\r\u001b[K     |████▊                           | 491kB 11.8MB/s eta 0:00:01\r\u001b[K     |████▊                           | 501kB 11.8MB/s eta 0:00:01\r\u001b[K     |████▉                           | 512kB 11.8MB/s eta 0:00:01\r\u001b[K     |█████                           | 522kB 11.8MB/s eta 0:00:01\r\u001b[K     |█████                           | 532kB 11.8MB/s eta 0:00:01\r\u001b[K     |█████▏                          | 542kB 11.8MB/s eta 0:00:01\r\u001b[K     |█████▎                          | 552kB 11.8MB/s eta 0:00:01\r\u001b[K     |█████▍                          | 563kB 11.8MB/s eta 0:00:01\r\u001b[K     |█████▌                          | 573kB 11.8MB/s eta 0:00:01\r\u001b[K     |█████▌                          | 583kB 11.8MB/s eta 0:00:01\r\u001b[K     |█████▋                          | 593kB 11.8MB/s eta 0:00:01\r\u001b[K     |█████▊                          | 604kB 11.8MB/s eta 0:00:01\r\u001b[K     |█████▉                          | 614kB 11.8MB/s eta 0:00:01\r\u001b[K     |██████                          | 624kB 11.8MB/s eta 0:00:01\r\u001b[K     |██████                          | 634kB 11.8MB/s eta 0:00:01\r\u001b[K     |██████▏                         | 645kB 11.8MB/s eta 0:00:01\r\u001b[K     |██████▎                         | 655kB 11.8MB/s eta 0:00:01\r\u001b[K     |██████▎                         | 665kB 11.8MB/s eta 0:00:01\r\u001b[K     |██████▍                         | 675kB 11.8MB/s eta 0:00:01\r\u001b[K     |██████▌                         | 686kB 11.8MB/s eta 0:00:01\r\u001b[K     |██████▋                         | 696kB 11.8MB/s eta 0:00:01\r\u001b[K     |██████▊                         | 706kB 11.8MB/s eta 0:00:01\r\u001b[K     |██████▉                         | 716kB 11.8MB/s eta 0:00:01\r\u001b[K     |███████                         | 727kB 11.8MB/s eta 0:00:01\r\u001b[K     |███████                         | 737kB 11.8MB/s eta 0:00:01\r\u001b[K     |███████                         | 747kB 11.8MB/s eta 0:00:01\r\u001b[K     |███████▏                        | 757kB 11.8MB/s eta 0:00:01\r\u001b[K     |███████▎                        | 768kB 11.8MB/s eta 0:00:01\r\u001b[K     |███████▍                        | 778kB 11.8MB/s eta 0:00:01\r\u001b[K     |███████▌                        | 788kB 11.8MB/s eta 0:00:01\r\u001b[K     |███████▋                        | 798kB 11.8MB/s eta 0:00:01\r\u001b[K     |███████▊                        | 808kB 11.8MB/s eta 0:00:01\r\u001b[K     |███████▉                        | 819kB 11.8MB/s eta 0:00:01\r\u001b[K     |███████▉                        | 829kB 11.8MB/s eta 0:00:01\r\u001b[K     |████████                        | 839kB 11.8MB/s eta 0:00:01\r\u001b[K     |████████                        | 849kB 11.8MB/s eta 0:00:01\r\u001b[K     |████████▏                       | 860kB 11.8MB/s eta 0:00:01\r\u001b[K     |████████▎                       | 870kB 11.8MB/s eta 0:00:01\r\u001b[K     |████████▍                       | 880kB 11.8MB/s eta 0:00:01\r\u001b[K     |████████▌                       | 890kB 11.8MB/s eta 0:00:01\r\u001b[K     |████████▋                       | 901kB 11.8MB/s eta 0:00:01\r\u001b[K     |████████▋                       | 911kB 11.8MB/s eta 0:00:01\r\u001b[K     |████████▊                       | 921kB 11.8MB/s eta 0:00:01\r\u001b[K     |████████▉                       | 931kB 11.8MB/s eta 0:00:01\r\u001b[K     |█████████                       | 942kB 11.8MB/s eta 0:00:01\r\u001b[K     |█████████                       | 952kB 11.8MB/s eta 0:00:01\r\u001b[K     |█████████▏                      | 962kB 11.8MB/s eta 0:00:01\r\u001b[K     |█████████▎                      | 972kB 11.8MB/s eta 0:00:01\r\u001b[K     |█████████▍                      | 983kB 11.8MB/s eta 0:00:01\r\u001b[K     |█████████▌                      | 993kB 11.8MB/s eta 0:00:01\r\u001b[K     |█████████▌                      | 1.0MB 11.8MB/s eta 0:00:01\r\u001b[K     |█████████▋                      | 1.0MB 11.8MB/s eta 0:00:01\r\u001b[K     |█████████▊                      | 1.0MB 11.8MB/s eta 0:00:01\r\u001b[K     |█████████▉                      | 1.0MB 11.8MB/s eta 0:00:01\r\u001b[K     |██████████                      | 1.0MB 11.8MB/s eta 0:00:01\r\u001b[K     |██████████                      | 1.1MB 11.8MB/s eta 0:00:01\r\u001b[K     |██████████▏                     | 1.1MB 11.8MB/s eta 0:00:01\r\u001b[K     |██████████▎                     | 1.1MB 11.8MB/s eta 0:00:01\r\u001b[K     |██████████▎                     | 1.1MB 11.8MB/s eta 0:00:01\r\u001b[K     |██████████▍                     | 1.1MB 11.8MB/s eta 0:00:01\r\u001b[K     |██████████▌                     | 1.1MB 11.8MB/s eta 0:00:01\r\u001b[K     |██████████▋                     | 1.1MB 11.8MB/s eta 0:00:01\r\u001b[K     |██████████▊                     | 1.1MB 11.8MB/s eta 0:00:01\r\u001b[K     |██████████▉                     | 1.1MB 11.8MB/s eta 0:00:01\r\u001b[K     |███████████                     | 1.1MB 11.8MB/s eta 0:00:01\r\u001b[K     |███████████                     | 1.2MB 11.8MB/s eta 0:00:01\r\u001b[K     |███████████                     | 1.2MB 11.8MB/s eta 0:00:01\r\u001b[K     |███████████▏                    | 1.2MB 11.8MB/s eta 0:00:01\r\u001b[K     |███████████▎                    | 1.2MB 11.8MB/s eta 0:00:01\r\u001b[K     |███████████▍                    | 1.2MB 11.8MB/s eta 0:00:01\r\u001b[K     |███████████▌                    | 1.2MB 11.8MB/s eta 0:00:01\r\u001b[K     |███████████▋                    | 1.2MB 11.8MB/s eta 0:00:01\r\u001b[K     |███████████▊                    | 1.2MB 11.8MB/s eta 0:00:01\r\u001b[K     |███████████▉                    | 1.2MB 11.8MB/s eta 0:00:01\r\u001b[K     |███████████▉                    | 1.2MB 11.8MB/s eta 0:00:01\r\u001b[K     |████████████                    | 1.3MB 11.8MB/s eta 0:00:01\r\u001b[K     |████████████                    | 1.3MB 11.8MB/s eta 0:00:01\r\u001b[K     |████████████▏                   | 1.3MB 11.8MB/s eta 0:00:01\r\u001b[K     |████████████▎                   | 1.3MB 11.8MB/s eta 0:00:01\r\u001b[K     |████████████▍                   | 1.3MB 11.8MB/s eta 0:00:01\r\u001b[K     |████████████▌                   | 1.3MB 11.8MB/s eta 0:00:01\r\u001b[K     |████████████▋                   | 1.3MB 11.8MB/s eta 0:00:01\r\u001b[K     |████████████▋                   | 1.3MB 11.8MB/s eta 0:00:01\r\u001b[K     |████████████▊                   | 1.3MB 11.8MB/s eta 0:00:01\r\u001b[K     |████████████▉                   | 1.4MB 11.8MB/s eta 0:00:01\r\u001b[K     |█████████████                   | 1.4MB 11.8MB/s eta 0:00:01\r\u001b[K     |█████████████                   | 1.4MB 11.8MB/s eta 0:00:01\r\u001b[K     |█████████████▏                  | 1.4MB 11.8MB/s eta 0:00:01\r\u001b[K     |█████████████▎                  | 1.4MB 11.8MB/s eta 0:00:01\r\u001b[K     |█████████████▍                  | 1.4MB 11.8MB/s eta 0:00:01\r\u001b[K     |█████████████▍                  | 1.4MB 11.8MB/s eta 0:00:01\r\u001b[K     |█████████████▌                  | 1.4MB 11.8MB/s eta 0:00:01\r\u001b[K     |█████████████▋                  | 1.4MB 11.8MB/s eta 0:00:01\r\u001b[K     |█████████████▊                  | 1.4MB 11.8MB/s eta 0:00:01\r\u001b[K     |█████████████▉                  | 1.5MB 11.8MB/s eta 0:00:01\r\u001b[K     |██████████████                  | 1.5MB 11.8MB/s eta 0:00:01\r\u001b[K     |██████████████                  | 1.5MB 11.8MB/s eta 0:00:01\r\u001b[K     |██████████████▏                 | 1.5MB 11.8MB/s eta 0:00:01\r\u001b[K     |██████████████▏                 | 1.5MB 11.8MB/s eta 0:00:01\r\u001b[K     |██████████████▎                 | 1.5MB 11.8MB/s eta 0:00:01\r\u001b[K     |██████████████▍                 | 1.5MB 11.8MB/s eta 0:00:01\r\u001b[K     |██████████████▌                 | 1.5MB 11.8MB/s eta 0:00:01\r\u001b[K     |██████████████▋                 | 1.5MB 11.8MB/s eta 0:00:01\r\u001b[K     |██████████████▊                 | 1.5MB 11.8MB/s eta 0:00:01\r\u001b[K     |██████████████▉                 | 1.6MB 11.8MB/s eta 0:00:01\r\u001b[K     |███████████████                 | 1.6MB 11.8MB/s eta 0:00:01\r\u001b[K     |███████████████                 | 1.6MB 11.8MB/s eta 0:00:01\r\u001b[K     |███████████████                 | 1.6MB 11.8MB/s eta 0:00:01\r\u001b[K     |███████████████▏                | 1.6MB 11.8MB/s eta 0:00:01\r\u001b[K     |███████████████▎                | 1.6MB 11.8MB/s eta 0:00:01\r\u001b[K     |███████████████▍                | 1.6MB 11.8MB/s eta 0:00:01\r\u001b[K     |███████████████▌                | 1.6MB 11.8MB/s eta 0:00:01\r\u001b[K     |███████████████▋                | 1.6MB 11.8MB/s eta 0:00:01\r\u001b[K     |███████████████▊                | 1.6MB 11.8MB/s eta 0:00:01\r\u001b[K     |███████████████▊                | 1.7MB 11.8MB/s eta 0:00:01\r\u001b[K     |███████████████▉                | 1.7MB 11.8MB/s eta 0:00:01\r\u001b[K     |████████████████                | 1.7MB 11.8MB/s eta 0:00:01\r\u001b[K     |████████████████                | 1.7MB 11.8MB/s eta 0:00:01\r\u001b[K     |████████████████▏               | 1.7MB 11.8MB/s eta 0:00:01\r\u001b[K     |████████████████▎               | 1.7MB 11.8MB/s eta 0:00:01\r\u001b[K     |████████████████▍               | 1.7MB 11.8MB/s eta 0:00:01\r\u001b[K     |████████████████▌               | 1.7MB 11.8MB/s eta 0:00:01\r\u001b[K     |████████████████▌               | 1.7MB 11.8MB/s eta 0:00:01\r\u001b[K     |████████████████▋               | 1.8MB 11.8MB/s eta 0:00:01\r\u001b[K     |████████████████▊               | 1.8MB 11.8MB/s eta 0:00:01\r\u001b[K     |████████████████▉               | 1.8MB 11.8MB/s eta 0:00:01\r\u001b[K     |█████████████████               | 1.8MB 11.8MB/s eta 0:00:01\r\u001b[K     |█████████████████               | 1.8MB 11.8MB/s eta 0:00:01\r\u001b[K     |█████████████████▏              | 1.8MB 11.8MB/s eta 0:00:01\r\u001b[K     |█████████████████▎              | 1.8MB 11.8MB/s eta 0:00:01\r\u001b[K     |█████████████████▎              | 1.8MB 11.8MB/s eta 0:00:01\r\u001b[K     |█████████████████▍              | 1.8MB 11.8MB/s eta 0:00:01\r\u001b[K     |█████████████████▌              | 1.8MB 11.8MB/s eta 0:00:01\r\u001b[K     |█████████████████▋              | 1.9MB 11.8MB/s eta 0:00:01\r\u001b[K     |█████████████████▊              | 1.9MB 11.8MB/s eta 0:00:01\r\u001b[K     |█████████████████▉              | 1.9MB 11.8MB/s eta 0:00:01\r\u001b[K     |██████████████████              | 1.9MB 11.8MB/s eta 0:00:01\r\u001b[K     |██████████████████              | 1.9MB 11.8MB/s eta 0:00:01\r\u001b[K     |██████████████████              | 1.9MB 11.8MB/s eta 0:00:01\r\u001b[K     |██████████████████▏             | 1.9MB 11.8MB/s eta 0:00:01\r\u001b[K     |██████████████████▎             | 1.9MB 11.8MB/s eta 0:00:01\r\u001b[K     |██████████████████▍             | 1.9MB 11.8MB/s eta 0:00:01\r\u001b[K     |██████████████████▌             | 1.9MB 11.8MB/s eta 0:00:01\r\u001b[K     |██████████████████▋             | 2.0MB 11.8MB/s eta 0:00:01\r\u001b[K     |██████████████████▊             | 2.0MB 11.8MB/s eta 0:00:01\r\u001b[K     |██████████████████▉             | 2.0MB 11.8MB/s eta 0:00:01\r\u001b[K     |███████████████████             | 2.0MB 11.8MB/s eta 0:00:01\r\u001b[K     |███████████████████             | 2.0MB 11.8MB/s eta 0:00:01\r\u001b[K     |███████████████████             | 2.0MB 11.8MB/s eta 0:00:01\r\u001b[K     |███████████████████▏            | 2.0MB 11.8MB/s eta 0:00:01\r\u001b[K     |███████████████████▎            | 2.0MB 11.8MB/s eta 0:00:01\r\u001b[K     |███████████████████▍            | 2.0MB 11.8MB/s eta 0:00:01\r\u001b[K     |███████████████████▌            | 2.0MB 11.8MB/s eta 0:00:01\r\u001b[K     |███████████████████▋            | 2.1MB 11.8MB/s eta 0:00:01\r\u001b[K     |███████████████████▊            | 2.1MB 11.8MB/s eta 0:00:01\r\u001b[K     |███████████████████▊            | 2.1MB 11.8MB/s eta 0:00:01\r\u001b[K     |███████████████████▉            | 2.1MB 11.8MB/s eta 0:00:01\r\u001b[K     |████████████████████            | 2.1MB 11.8MB/s eta 0:00:01\r\u001b[K     |████████████████████            | 2.1MB 11.8MB/s eta 0:00:01\r\u001b[K     |████████████████████▏           | 2.1MB 11.8MB/s eta 0:00:01\r\u001b[K     |████████████████████▎           | 2.1MB 11.8MB/s eta 0:00:01\r\u001b[K     |████████████████████▍           | 2.1MB 11.8MB/s eta 0:00:01\r\u001b[K     |████████████████████▌           | 2.2MB 11.8MB/s eta 0:00:01\r\u001b[K     |████████████████████▌           | 2.2MB 11.8MB/s eta 0:00:01\r\u001b[K     |████████████████████▋           | 2.2MB 11.8MB/s eta 0:00:01\r\u001b[K     |████████████████████▊           | 2.2MB 11.8MB/s eta 0:00:01\r\u001b[K     |████████████████████▉           | 2.2MB 11.8MB/s eta 0:00:01\r\u001b[K     |█████████████████████           | 2.2MB 11.8MB/s eta 0:00:01\r\u001b[K     |█████████████████████           | 2.2MB 11.8MB/s eta 0:00:01\r\u001b[K     |█████████████████████▏          | 2.2MB 11.8MB/s eta 0:00:01\r\u001b[K     |█████████████████████▎          | 2.2MB 11.8MB/s eta 0:00:01\r\u001b[K     |█████████████████████▎          | 2.2MB 11.8MB/s eta 0:00:01\r\u001b[K     |█████████████████████▍          | 2.3MB 11.8MB/s eta 0:00:01\r\u001b[K     |█████████████████████▌          | 2.3MB 11.8MB/s eta 0:00:01\r\u001b[K     |█████████████████████▋          | 2.3MB 11.8MB/s eta 0:00:01\r\u001b[K     |█████████████████████▊          | 2.3MB 11.8MB/s eta 0:00:01\r\u001b[K     |█████████████████████▉          | 2.3MB 11.8MB/s eta 0:00:01\r\u001b[K     |██████████████████████          | 2.3MB 11.8MB/s eta 0:00:01\r\u001b[K     |██████████████████████          | 2.3MB 11.8MB/s eta 0:00:01\r\u001b[K     |██████████████████████          | 2.3MB 11.8MB/s eta 0:00:01\r\u001b[K     |██████████████████████▏         | 2.3MB 11.8MB/s eta 0:00:01\r\u001b[K     |██████████████████████▎         | 2.3MB 11.8MB/s eta 0:00:01\r\u001b[K     |██████████████████████▍         | 2.4MB 11.8MB/s eta 0:00:01\r\u001b[K     |██████████████████████▌         | 2.4MB 11.8MB/s eta 0:00:01\r\u001b[K     |██████████████████████▋         | 2.4MB 11.8MB/s eta 0:00:01\r\u001b[K     |██████████████████████▊         | 2.4MB 11.8MB/s eta 0:00:01\r\u001b[K     |██████████████████████▉         | 2.4MB 11.8MB/s eta 0:00:01\r\u001b[K     |██████████████████████▉         | 2.4MB 11.8MB/s eta 0:00:01\r\u001b[K     |███████████████████████         | 2.4MB 11.8MB/s eta 0:00:01\r\u001b[K     |███████████████████████         | 2.4MB 11.8MB/s eta 0:00:01\r\u001b[K     |███████████████████████▏        | 2.4MB 11.8MB/s eta 0:00:01\r\u001b[K     |███████████████████████▎        | 2.4MB 11.8MB/s eta 0:00:01\r\u001b[K     |███████████████████████▍        | 2.5MB 11.8MB/s eta 0:00:01\r\u001b[K     |███████████████████████▌        | 2.5MB 11.8MB/s eta 0:00:01\r\u001b[K     |███████████████████████▋        | 2.5MB 11.8MB/s eta 0:00:01\r\u001b[K     |███████████████████████▋        | 2.5MB 11.8MB/s eta 0:00:01\r\u001b[K     |███████████████████████▊        | 2.5MB 11.8MB/s eta 0:00:01\r\u001b[K     |███████████████████████▉        | 2.5MB 11.8MB/s eta 0:00:01\r\u001b[K     |████████████████████████        | 2.5MB 11.8MB/s eta 0:00:01\r\u001b[K     |████████████████████████        | 2.5MB 11.8MB/s eta 0:00:01\r\u001b[K     |████████████████████████▏       | 2.5MB 11.8MB/s eta 0:00:01\r\u001b[K     |████████████████████████▎       | 2.5MB 11.8MB/s eta 0:00:01\r\u001b[K     |████████████████████████▍       | 2.6MB 11.8MB/s eta 0:00:01\r\u001b[K     |████████████████████████▍       | 2.6MB 11.8MB/s eta 0:00:01\r\u001b[K     |████████████████████████▌       | 2.6MB 11.8MB/s eta 0:00:01\r\u001b[K     |████████████████████████▋       | 2.6MB 11.8MB/s eta 0:00:01\r\u001b[K     |████████████████████████▊       | 2.6MB 11.8MB/s eta 0:00:01\r\u001b[K     |████████████████████████▉       | 2.6MB 11.8MB/s eta 0:00:01\r\u001b[K     |█████████████████████████       | 2.6MB 11.8MB/s eta 0:00:01\r\u001b[K     |█████████████████████████       | 2.6MB 11.8MB/s eta 0:00:01\r\u001b[K     |█████████████████████████▏      | 2.6MB 11.8MB/s eta 0:00:01\r\u001b[K     |█████████████████████████▏      | 2.7MB 11.8MB/s eta 0:00:01\r\u001b[K     |█████████████████████████▎      | 2.7MB 11.8MB/s eta 0:00:01\r\u001b[K     |█████████████████████████▍      | 2.7MB 11.8MB/s eta 0:00:01\r\u001b[K     |█████████████████████████▌      | 2.7MB 11.8MB/s eta 0:00:01\r\u001b[K     |█████████████████████████▋      | 2.7MB 11.8MB/s eta 0:00:01\r\u001b[K     |█████████████████████████▊      | 2.7MB 11.8MB/s eta 0:00:01\r\u001b[K     |█████████████████████████▉      | 2.7MB 11.8MB/s eta 0:00:01\r\u001b[K     |██████████████████████████      | 2.7MB 11.8MB/s eta 0:00:01\r\u001b[K     |██████████████████████████      | 2.7MB 11.8MB/s eta 0:00:01\r\u001b[K     |██████████████████████████      | 2.7MB 11.8MB/s eta 0:00:01\r\u001b[K     |██████████████████████████▏     | 2.8MB 11.8MB/s eta 0:00:01\r\u001b[K     |██████████████████████████▎     | 2.8MB 11.8MB/s eta 0:00:01\r\u001b[K     |██████████████████████████▍     | 2.8MB 11.8MB/s eta 0:00:01\r\u001b[K     |██████████████████████████▌     | 2.8MB 11.8MB/s eta 0:00:01\r\u001b[K     |██████████████████████████▋     | 2.8MB 11.8MB/s eta 0:00:01\r\u001b[K     |██████████████████████████▊     | 2.8MB 11.8MB/s eta 0:00:01\r\u001b[K     |██████████████████████████▊     | 2.8MB 11.8MB/s eta 0:00:01\r\u001b[K     |██████████████████████████▉     | 2.8MB 11.8MB/s eta 0:00:01\r\u001b[K     |███████████████████████████     | 2.8MB 11.8MB/s eta 0:00:01\r\u001b[K     |███████████████████████████     | 2.8MB 11.8MB/s eta 0:00:01\r\u001b[K     |███████████████████████████▏    | 2.9MB 11.8MB/s eta 0:00:01\r\u001b[K     |███████████████████████████▎    | 2.9MB 11.8MB/s eta 0:00:01\r\u001b[K     |███████████████████████████▍    | 2.9MB 11.8MB/s eta 0:00:01\r\u001b[K     |███████████████████████████▌    | 2.9MB 11.8MB/s eta 0:00:01\r\u001b[K     |███████████████████████████▌    | 2.9MB 11.8MB/s eta 0:00:01\r\u001b[K     |███████████████████████████▋    | 2.9MB 11.8MB/s eta 0:00:01\r\u001b[K     |███████████████████████████▊    | 2.9MB 11.8MB/s eta 0:00:01\r\u001b[K     |███████████████████████████▉    | 2.9MB 11.8MB/s eta 0:00:01\r\u001b[K     |████████████████████████████    | 2.9MB 11.8MB/s eta 0:00:01\r\u001b[K     |████████████████████████████    | 2.9MB 11.8MB/s eta 0:00:01\r\u001b[K     |████████████████████████████▏   | 3.0MB 11.8MB/s eta 0:00:01\r\u001b[K     |████████████████████████████▎   | 3.0MB 11.8MB/s eta 0:00:01\r\u001b[K     |████████████████████████████▍   | 3.0MB 11.8MB/s eta 0:00:01\r\u001b[K     |████████████████████████████▍   | 3.0MB 11.8MB/s eta 0:00:01\r\u001b[K     |████████████████████████████▌   | 3.0MB 11.8MB/s eta 0:00:01\r\u001b[K     |████████████████████████████▋   | 3.0MB 11.8MB/s eta 0:00:01\r\u001b[K     |████████████████████████████▊   | 3.0MB 11.8MB/s eta 0:00:01\r\u001b[K     |████████████████████████████▉   | 3.0MB 11.8MB/s eta 0:00:01\r\u001b[K     |█████████████████████████████   | 3.0MB 11.8MB/s eta 0:00:01\r\u001b[K     |█████████████████████████████   | 3.1MB 11.8MB/s eta 0:00:01\r\u001b[K     |█████████████████████████████▏  | 3.1MB 11.8MB/s eta 0:00:01\r\u001b[K     |█████████████████████████████▏  | 3.1MB 11.8MB/s eta 0:00:01\r\u001b[K     |█████████████████████████████▎  | 3.1MB 11.8MB/s eta 0:00:01\r\u001b[K     |█████████████████████████████▍  | 3.1MB 11.8MB/s eta 0:00:01\r\u001b[K     |█████████████████████████████▌  | 3.1MB 11.8MB/s eta 0:00:01\r\u001b[K     |█████████████████████████████▋  | 3.1MB 11.8MB/s eta 0:00:01\r\u001b[K     |█████████████████████████████▊  | 3.1MB 11.8MB/s eta 0:00:01\r\u001b[K     |█████████████████████████████▉  | 3.1MB 11.8MB/s eta 0:00:01\r\u001b[K     |██████████████████████████████  | 3.1MB 11.8MB/s eta 0:00:01\r\u001b[K     |██████████████████████████████  | 3.2MB 11.8MB/s eta 0:00:01\r\u001b[K     |██████████████████████████████  | 3.2MB 11.8MB/s eta 0:00:01\r\u001b[K     |██████████████████████████████▏ | 3.2MB 11.8MB/s eta 0:00:01\r\u001b[K     |██████████████████████████████▎ | 3.2MB 11.8MB/s eta 0:00:01\r\u001b[K     |██████████████████████████████▍ | 3.2MB 11.8MB/s eta 0:00:01\r\u001b[K     |██████████████████████████████▌ | 3.2MB 11.8MB/s eta 0:00:01\r\u001b[K     |██████████████████████████████▋ | 3.2MB 11.8MB/s eta 0:00:01\r\u001b[K     |██████████████████████████████▊ | 3.2MB 11.8MB/s eta 0:00:01\r\u001b[K     |██████████████████████████████▊ | 3.2MB 11.8MB/s eta 0:00:01\r\u001b[K     |██████████████████████████████▉ | 3.2MB 11.8MB/s eta 0:00:01\r\u001b[K     |███████████████████████████████ | 3.3MB 11.8MB/s eta 0:00:01\r\u001b[K     |███████████████████████████████ | 3.3MB 11.8MB/s eta 0:00:01\r\u001b[K     |███████████████████████████████▏| 3.3MB 11.8MB/s eta 0:00:01\r\u001b[K     |███████████████████████████████▎| 3.3MB 11.8MB/s eta 0:00:01\r\u001b[K     |███████████████████████████████▍| 3.3MB 11.8MB/s eta 0:00:01\r\u001b[K     |███████████████████████████████▌| 3.3MB 11.8MB/s eta 0:00:01\r\u001b[K     |███████████████████████████████▌| 3.3MB 11.8MB/s eta 0:00:01\r\u001b[K     |███████████████████████████████▋| 3.3MB 11.8MB/s eta 0:00:01\r\u001b[K     |███████████████████████████████▊| 3.3MB 11.8MB/s eta 0:00:01\r\u001b[K     |███████████████████████████████▉| 3.3MB 11.8MB/s eta 0:00:01\r\u001b[K     |████████████████████████████████| 3.4MB 11.8MB/s eta 0:00:01\r\u001b[K     |████████████████████████████████| 3.4MB 11.8MB/s \n",
            "\u001b[?25h"
          ],
          "name": "stdout"
        }
      ]
    },
    {
      "cell_type": "code",
      "metadata": {
        "id": "uqOCQrBKKz24"
      },
      "source": [
        "#stopwords from nltk to remove them from our dataset\r\n",
        "from nltk.corpus import stopwords\r\n",
        "stop=stopwords.words('english')"
      ],
      "execution_count": 8,
      "outputs": []
    },
    {
      "cell_type": "markdown",
      "metadata": {
        "id": "OpiCDoWBI92G"
      },
      "source": [
        "Loading the small bert model from tensorflow hub"
      ]
    },
    {
      "cell_type": "code",
      "metadata": {
        "id": "zcgVU6CWs8RA"
      },
      "source": [
        "tfhub_handle_encoder = 'https://tfhub.dev/tensorflow/small_bert/bert_en_uncased_L-2_H-512_A-8/1'\r\n",
        "tfhub_handle_preprocess = 'https://tfhub.dev/tensorflow/bert_en_uncased_preprocess/3'"
      ],
      "execution_count": 9,
      "outputs": []
    },
    {
      "cell_type": "code",
      "metadata": {
        "id": "ZJp5dJkggfD6"
      },
      "source": [
        "path_to_file='drive/MyDrive/Stumble/train.tsv'"
      ],
      "execution_count": 10,
      "outputs": []
    },
    {
      "cell_type": "markdown",
      "metadata": {
        "id": "oaTgKZgXJQzL"
      },
      "source": [
        "Dataset"
      ]
    },
    {
      "cell_type": "code",
      "metadata": {
        "id": "eZYBAiLvDFcV"
      },
      "source": [
        "df = pd.read_csv(path_to_file, sep='\\t')"
      ],
      "execution_count": 11,
      "outputs": []
    },
    {
      "cell_type": "code",
      "metadata": {
        "colab": {
          "base_uri": "https://localhost:8080/"
        },
        "id": "G_VBw6FRz1p3",
        "outputId": "bcf73a96-26ca-4aad-cda3-16fbd861c671"
      },
      "source": [
        "df.columns"
      ],
      "execution_count": 12,
      "outputs": [
        {
          "output_type": "execute_result",
          "data": {
            "text/plain": [
              "Index(['url', 'urlid', 'boilerplate', 'alchemy_category',\n",
              "       'alchemy_category_score', 'avglinksize', 'commonlinkratio_1',\n",
              "       'commonlinkratio_2', 'commonlinkratio_3', 'commonlinkratio_4',\n",
              "       'compression_ratio', 'embed_ratio', 'framebased', 'frameTagRatio',\n",
              "       'hasDomainLink', 'html_ratio', 'image_ratio', 'is_news',\n",
              "       'lengthyLinkDomain', 'linkwordscore', 'news_front_page',\n",
              "       'non_markup_alphanum_characters', 'numberOfLinks', 'numwords_in_url',\n",
              "       'parametrizedLinkRatio', 'spelling_errors_ratio', 'label'],\n",
              "      dtype='object')"
            ]
          },
          "metadata": {
            "tags": []
          },
          "execution_count": 12
        }
      ]
    },
    {
      "cell_type": "code",
      "metadata": {
        "colab": {
          "base_uri": "https://localhost:8080/",
          "height": 530
        },
        "id": "_mSMiYZ5IqTO",
        "outputId": "dc612099-9a8a-4094-bdf5-e84541779566"
      },
      "source": [
        "df.head()"
      ],
      "execution_count": 13,
      "outputs": [
        {
          "output_type": "execute_result",
          "data": {
            "text/html": [
              "<div>\n",
              "<style scoped>\n",
              "    .dataframe tbody tr th:only-of-type {\n",
              "        vertical-align: middle;\n",
              "    }\n",
              "\n",
              "    .dataframe tbody tr th {\n",
              "        vertical-align: top;\n",
              "    }\n",
              "\n",
              "    .dataframe thead th {\n",
              "        text-align: right;\n",
              "    }\n",
              "</style>\n",
              "<table border=\"1\" class=\"dataframe\">\n",
              "  <thead>\n",
              "    <tr style=\"text-align: right;\">\n",
              "      <th></th>\n",
              "      <th>url</th>\n",
              "      <th>urlid</th>\n",
              "      <th>boilerplate</th>\n",
              "      <th>alchemy_category</th>\n",
              "      <th>alchemy_category_score</th>\n",
              "      <th>avglinksize</th>\n",
              "      <th>commonlinkratio_1</th>\n",
              "      <th>commonlinkratio_2</th>\n",
              "      <th>commonlinkratio_3</th>\n",
              "      <th>commonlinkratio_4</th>\n",
              "      <th>compression_ratio</th>\n",
              "      <th>embed_ratio</th>\n",
              "      <th>framebased</th>\n",
              "      <th>frameTagRatio</th>\n",
              "      <th>hasDomainLink</th>\n",
              "      <th>html_ratio</th>\n",
              "      <th>image_ratio</th>\n",
              "      <th>is_news</th>\n",
              "      <th>lengthyLinkDomain</th>\n",
              "      <th>linkwordscore</th>\n",
              "      <th>news_front_page</th>\n",
              "      <th>non_markup_alphanum_characters</th>\n",
              "      <th>numberOfLinks</th>\n",
              "      <th>numwords_in_url</th>\n",
              "      <th>parametrizedLinkRatio</th>\n",
              "      <th>spelling_errors_ratio</th>\n",
              "      <th>label</th>\n",
              "    </tr>\n",
              "  </thead>\n",
              "  <tbody>\n",
              "    <tr>\n",
              "      <th>0</th>\n",
              "      <td>http://www.bloomberg.com/news/2010-12-23/ibm-p...</td>\n",
              "      <td>4042</td>\n",
              "      <td>{\"title\":\"IBM Sees Holographic Calls Air Breat...</td>\n",
              "      <td>business</td>\n",
              "      <td>0.789131</td>\n",
              "      <td>2.055556</td>\n",
              "      <td>0.676471</td>\n",
              "      <td>0.205882</td>\n",
              "      <td>0.047059</td>\n",
              "      <td>0.023529</td>\n",
              "      <td>0.443783</td>\n",
              "      <td>0.0</td>\n",
              "      <td>0</td>\n",
              "      <td>0.090774</td>\n",
              "      <td>0</td>\n",
              "      <td>0.245831</td>\n",
              "      <td>0.003883</td>\n",
              "      <td>1</td>\n",
              "      <td>1</td>\n",
              "      <td>24</td>\n",
              "      <td>0</td>\n",
              "      <td>5424</td>\n",
              "      <td>170</td>\n",
              "      <td>8</td>\n",
              "      <td>0.152941</td>\n",
              "      <td>0.079130</td>\n",
              "      <td>0</td>\n",
              "    </tr>\n",
              "    <tr>\n",
              "      <th>1</th>\n",
              "      <td>http://www.popsci.com/technology/article/2012-...</td>\n",
              "      <td>8471</td>\n",
              "      <td>{\"title\":\"The Fully Electronic Futuristic Star...</td>\n",
              "      <td>recreation</td>\n",
              "      <td>0.574147</td>\n",
              "      <td>3.677966</td>\n",
              "      <td>0.508021</td>\n",
              "      <td>0.288770</td>\n",
              "      <td>0.213904</td>\n",
              "      <td>0.144385</td>\n",
              "      <td>0.468649</td>\n",
              "      <td>0.0</td>\n",
              "      <td>0</td>\n",
              "      <td>0.098707</td>\n",
              "      <td>0</td>\n",
              "      <td>0.203490</td>\n",
              "      <td>0.088652</td>\n",
              "      <td>1</td>\n",
              "      <td>1</td>\n",
              "      <td>40</td>\n",
              "      <td>0</td>\n",
              "      <td>4973</td>\n",
              "      <td>187</td>\n",
              "      <td>9</td>\n",
              "      <td>0.181818</td>\n",
              "      <td>0.125448</td>\n",
              "      <td>1</td>\n",
              "    </tr>\n",
              "    <tr>\n",
              "      <th>2</th>\n",
              "      <td>http://www.menshealth.com/health/flu-fighting-...</td>\n",
              "      <td>1164</td>\n",
              "      <td>{\"title\":\"Fruits that Fight the Flu fruits tha...</td>\n",
              "      <td>health</td>\n",
              "      <td>0.996526</td>\n",
              "      <td>2.382883</td>\n",
              "      <td>0.562016</td>\n",
              "      <td>0.321705</td>\n",
              "      <td>0.120155</td>\n",
              "      <td>0.042636</td>\n",
              "      <td>0.525448</td>\n",
              "      <td>0.0</td>\n",
              "      <td>0</td>\n",
              "      <td>0.072448</td>\n",
              "      <td>0</td>\n",
              "      <td>0.226402</td>\n",
              "      <td>0.120536</td>\n",
              "      <td>1</td>\n",
              "      <td>1</td>\n",
              "      <td>55</td>\n",
              "      <td>0</td>\n",
              "      <td>2240</td>\n",
              "      <td>258</td>\n",
              "      <td>11</td>\n",
              "      <td>0.166667</td>\n",
              "      <td>0.057613</td>\n",
              "      <td>1</td>\n",
              "    </tr>\n",
              "    <tr>\n",
              "      <th>3</th>\n",
              "      <td>http://www.dumblittleman.com/2007/12/10-foolpr...</td>\n",
              "      <td>6684</td>\n",
              "      <td>{\"title\":\"10 Foolproof Tips for Better Sleep \"...</td>\n",
              "      <td>health</td>\n",
              "      <td>0.801248</td>\n",
              "      <td>1.543103</td>\n",
              "      <td>0.400000</td>\n",
              "      <td>0.100000</td>\n",
              "      <td>0.016667</td>\n",
              "      <td>0.000000</td>\n",
              "      <td>0.480725</td>\n",
              "      <td>0.0</td>\n",
              "      <td>0</td>\n",
              "      <td>0.095861</td>\n",
              "      <td>0</td>\n",
              "      <td>0.265656</td>\n",
              "      <td>0.035343</td>\n",
              "      <td>1</td>\n",
              "      <td>0</td>\n",
              "      <td>24</td>\n",
              "      <td>0</td>\n",
              "      <td>2737</td>\n",
              "      <td>120</td>\n",
              "      <td>5</td>\n",
              "      <td>0.041667</td>\n",
              "      <td>0.100858</td>\n",
              "      <td>1</td>\n",
              "    </tr>\n",
              "    <tr>\n",
              "      <th>4</th>\n",
              "      <td>http://bleacherreport.com/articles/1205138-the...</td>\n",
              "      <td>9006</td>\n",
              "      <td>{\"title\":\"The 50 Coolest Jerseys You Didn t Kn...</td>\n",
              "      <td>sports</td>\n",
              "      <td>0.719157</td>\n",
              "      <td>2.676471</td>\n",
              "      <td>0.500000</td>\n",
              "      <td>0.222222</td>\n",
              "      <td>0.123457</td>\n",
              "      <td>0.043210</td>\n",
              "      <td>0.446143</td>\n",
              "      <td>0.0</td>\n",
              "      <td>0</td>\n",
              "      <td>0.024908</td>\n",
              "      <td>0</td>\n",
              "      <td>0.228887</td>\n",
              "      <td>0.050473</td>\n",
              "      <td>1</td>\n",
              "      <td>1</td>\n",
              "      <td>14</td>\n",
              "      <td>0</td>\n",
              "      <td>12032</td>\n",
              "      <td>162</td>\n",
              "      <td>10</td>\n",
              "      <td>0.098765</td>\n",
              "      <td>0.082569</td>\n",
              "      <td>0</td>\n",
              "    </tr>\n",
              "  </tbody>\n",
              "</table>\n",
              "</div>"
            ],
            "text/plain": [
              "                                                 url  ...  label\n",
              "0  http://www.bloomberg.com/news/2010-12-23/ibm-p...  ...      0\n",
              "1  http://www.popsci.com/technology/article/2012-...  ...      1\n",
              "2  http://www.menshealth.com/health/flu-fighting-...  ...      1\n",
              "3  http://www.dumblittleman.com/2007/12/10-foolpr...  ...      1\n",
              "4  http://bleacherreport.com/articles/1205138-the...  ...      0\n",
              "\n",
              "[5 rows x 27 columns]"
            ]
          },
          "metadata": {
            "tags": []
          },
          "execution_count": 13
        }
      ]
    },
    {
      "cell_type": "markdown",
      "metadata": {
        "id": "wGNWUiJzJWlU"
      },
      "source": [
        "cloning the dataframe"
      ]
    },
    {
      "cell_type": "code",
      "metadata": {
        "id": "jIKn9Nd5zWts"
      },
      "source": [
        "vf=df"
      ],
      "execution_count": 14,
      "outputs": []
    },
    {
      "cell_type": "markdown",
      "metadata": {
        "id": "EZgSYW78Jay_"
      },
      "source": [
        "Removing columns which are not required for determining the label. Referring to the paper : http://cs229.stanford.edu/proj2013/RoySaraiya_StumbleUponClassification.pdf"
      ]
    },
    {
      "cell_type": "code",
      "metadata": {
        "id": "V5Q6Awyi2fcS",
        "colab": {
          "base_uri": "https://localhost:8080/",
          "height": 204
        },
        "outputId": "a56df8e9-63cd-4879-b333-42c9b540bb50"
      },
      "source": [
        "vf.drop(columns=['url', 'urlid', 'alchemy_category',\r\n",
        "       'alchemy_category_score', 'avglinksize', 'commonlinkratio_1',\r\n",
        "       'commonlinkratio_2', 'commonlinkratio_3', 'commonlinkratio_4',\r\n",
        "       'compression_ratio', 'embed_ratio', 'framebased', 'frameTagRatio',\r\n",
        "       'hasDomainLink', 'html_ratio', 'image_ratio', 'is_news',\r\n",
        "       'lengthyLinkDomain', 'linkwordscore', 'news_front_page',\r\n",
        "       'non_markup_alphanum_characters', 'numberOfLinks', 'numwords_in_url',\r\n",
        "       'parametrizedLinkRatio', 'spelling_errors_ratio'], axis=1,inplace=True)\r\n",
        "vf.head()"
      ],
      "execution_count": 15,
      "outputs": [
        {
          "output_type": "execute_result",
          "data": {
            "text/html": [
              "<div>\n",
              "<style scoped>\n",
              "    .dataframe tbody tr th:only-of-type {\n",
              "        vertical-align: middle;\n",
              "    }\n",
              "\n",
              "    .dataframe tbody tr th {\n",
              "        vertical-align: top;\n",
              "    }\n",
              "\n",
              "    .dataframe thead th {\n",
              "        text-align: right;\n",
              "    }\n",
              "</style>\n",
              "<table border=\"1\" class=\"dataframe\">\n",
              "  <thead>\n",
              "    <tr style=\"text-align: right;\">\n",
              "      <th></th>\n",
              "      <th>boilerplate</th>\n",
              "      <th>label</th>\n",
              "    </tr>\n",
              "  </thead>\n",
              "  <tbody>\n",
              "    <tr>\n",
              "      <th>0</th>\n",
              "      <td>{\"title\":\"IBM Sees Holographic Calls Air Breat...</td>\n",
              "      <td>0</td>\n",
              "    </tr>\n",
              "    <tr>\n",
              "      <th>1</th>\n",
              "      <td>{\"title\":\"The Fully Electronic Futuristic Star...</td>\n",
              "      <td>1</td>\n",
              "    </tr>\n",
              "    <tr>\n",
              "      <th>2</th>\n",
              "      <td>{\"title\":\"Fruits that Fight the Flu fruits tha...</td>\n",
              "      <td>1</td>\n",
              "    </tr>\n",
              "    <tr>\n",
              "      <th>3</th>\n",
              "      <td>{\"title\":\"10 Foolproof Tips for Better Sleep \"...</td>\n",
              "      <td>1</td>\n",
              "    </tr>\n",
              "    <tr>\n",
              "      <th>4</th>\n",
              "      <td>{\"title\":\"The 50 Coolest Jerseys You Didn t Kn...</td>\n",
              "      <td>0</td>\n",
              "    </tr>\n",
              "  </tbody>\n",
              "</table>\n",
              "</div>"
            ],
            "text/plain": [
              "                                         boilerplate  label\n",
              "0  {\"title\":\"IBM Sees Holographic Calls Air Breat...      0\n",
              "1  {\"title\":\"The Fully Electronic Futuristic Star...      1\n",
              "2  {\"title\":\"Fruits that Fight the Flu fruits tha...      1\n",
              "3  {\"title\":\"10 Foolproof Tips for Better Sleep \"...      1\n",
              "4  {\"title\":\"The 50 Coolest Jerseys You Didn t Kn...      0"
            ]
          },
          "metadata": {
            "tags": []
          },
          "execution_count": 15
        }
      ]
    },
    {
      "cell_type": "markdown",
      "metadata": {
        "id": "gGJB320wKWfH"
      },
      "source": [
        "Cleaning the boilerplate data"
      ]
    },
    {
      "cell_type": "code",
      "metadata": {
        "id": "SeVaYYCUItwZ"
      },
      "source": [
        "def clean_text(x):\r\n",
        "  x=re.sub('{\"title\":\"','',x)\r\n",
        "  x=re.sub('\",\"body\":\"',' ',x)\r\n",
        "  x=re.sub('\",\"url\":\"',' ',x)\r\n",
        "  x=re.sub('html\"}','',x)\r\n",
        "  return x"
      ],
      "execution_count": 16,
      "outputs": []
    },
    {
      "cell_type": "markdown",
      "metadata": {
        "id": "016lJ1r6KgPh"
      },
      "source": [
        "Preprocessing"
      ]
    },
    {
      "cell_type": "code",
      "metadata": {
        "id": "LnZwPgMzORvj"
      },
      "source": [
        "pd.options.mode.chained_assignment = None\r\n",
        "def pre_process(w):\r\n",
        "  for i in range(0,len(w)):\r\n",
        "    w['boilerplate'][i]=clean_text(w['boilerplate'][i])\r\n",
        "  w['boilerplate'] = w['boilerplate'].str.lower()\r\n",
        "  w['boilerplate'] = w['boilerplate'].apply(lambda x: ' '.join([word for word in x.split() if word not in (stop)]))"
      ],
      "execution_count": 17,
      "outputs": []
    },
    {
      "cell_type": "code",
      "metadata": {
        "id": "J0Wc6G_HhZgT"
      },
      "source": [
        "pre_process(vf)"
      ],
      "execution_count": 18,
      "outputs": []
    },
    {
      "cell_type": "code",
      "metadata": {
        "colab": {
          "base_uri": "https://localhost:8080/",
          "height": 204
        },
        "id": "x9LCLc523dC7",
        "outputId": "fabe9da5-6997-438b-ff27-9679a0abf131"
      },
      "source": [
        "vf.head()"
      ],
      "execution_count": 19,
      "outputs": [
        {
          "output_type": "execute_result",
          "data": {
            "text/html": [
              "<div>\n",
              "<style scoped>\n",
              "    .dataframe tbody tr th:only-of-type {\n",
              "        vertical-align: middle;\n",
              "    }\n",
              "\n",
              "    .dataframe tbody tr th {\n",
              "        vertical-align: top;\n",
              "    }\n",
              "\n",
              "    .dataframe thead th {\n",
              "        text-align: right;\n",
              "    }\n",
              "</style>\n",
              "<table border=\"1\" class=\"dataframe\">\n",
              "  <thead>\n",
              "    <tr style=\"text-align: right;\">\n",
              "      <th></th>\n",
              "      <th>boilerplate</th>\n",
              "      <th>label</th>\n",
              "    </tr>\n",
              "  </thead>\n",
              "  <tbody>\n",
              "    <tr>\n",
              "      <th>0</th>\n",
              "      <td>ibm sees holographic calls air breathing batte...</td>\n",
              "      <td>0</td>\n",
              "    </tr>\n",
              "    <tr>\n",
              "      <th>1</th>\n",
              "      <td>fully electronic futuristic starting gun elimi...</td>\n",
              "      <td>1</td>\n",
              "    </tr>\n",
              "    <tr>\n",
              "      <th>2</th>\n",
              "      <td>fruits fight flu fruits fight flu | cold &amp; flu...</td>\n",
              "      <td>1</td>\n",
              "    </tr>\n",
              "    <tr>\n",
              "      <th>3</th>\n",
              "      <td>10 foolproof tips better sleep period life lot...</td>\n",
              "      <td>1</td>\n",
              "    </tr>\n",
              "    <tr>\n",
              "      <th>4</th>\n",
              "      <td>50 coolest jerseys know existed coolest jersey...</td>\n",
              "      <td>0</td>\n",
              "    </tr>\n",
              "  </tbody>\n",
              "</table>\n",
              "</div>"
            ],
            "text/plain": [
              "                                         boilerplate  label\n",
              "0  ibm sees holographic calls air breathing batte...      0\n",
              "1  fully electronic futuristic starting gun elimi...      1\n",
              "2  fruits fight flu fruits fight flu | cold & flu...      1\n",
              "3  10 foolproof tips better sleep period life lot...      1\n",
              "4  50 coolest jerseys know existed coolest jersey...      0"
            ]
          },
          "metadata": {
            "tags": []
          },
          "execution_count": 19
        }
      ]
    },
    {
      "cell_type": "markdown",
      "metadata": {
        "id": "Ey1axiZyKi3-"
      },
      "source": [
        "Splitting Test and Train Dataset"
      ]
    },
    {
      "cell_type": "code",
      "metadata": {
        "id": "LNOYBD3l9bSb"
      },
      "source": [
        "X_train, X_test, y_train, y_test = train_test_split(vf['boilerplate'], vf['label'], test_size=0.2, random_state=42,shuffle=True)"
      ],
      "execution_count": 38,
      "outputs": []
    },
    {
      "cell_type": "markdown",
      "metadata": {
        "id": "umd3H3kVKnQd"
      },
      "source": [
        "Loading BERT Preprocess and Encoder model from tensorflow_hub\r\n",
        "Ref : https://tfhub.dev/google/collections/bert/1"
      ]
    },
    {
      "cell_type": "code",
      "metadata": {
        "id": "JYT3mTTCLDU6"
      },
      "source": [
        "bert_preprocess_model = hub.KerasLayer(tfhub_handle_preprocess)\r\n",
        "bert_model = hub.KerasLayer(tfhub_handle_encoder)"
      ],
      "execution_count": 24,
      "outputs": []
    },
    {
      "cell_type": "markdown",
      "metadata": {
        "id": "B1GiuKU5LEsk"
      },
      "source": [
        "Building the model"
      ]
    },
    {
      "cell_type": "code",
      "metadata": {
        "id": "uTfz2qRgfzzw"
      },
      "source": [
        "def BERTClassifier():\r\n",
        "  text_input = tf.keras.layers.Input(shape=(), dtype=tf.string, name='text')\r\n",
        "  preprocessing_layer = hub.KerasLayer(tfhub_handle_preprocess, name='preprocessing')\r\n",
        "  encoder_inputs = preprocessing_layer(text_input)\r\n",
        "  encoder = hub.KerasLayer(tfhub_handle_encoder, trainable=True, name='BERT_encoder')\r\n",
        "  outputs = encoder(encoder_inputs)\r\n",
        "  net = outputs['pooled_output']\r\n",
        "  net = tf.keras.layers.Dropout(0.1)(net)\r\n",
        "  net = tf.keras.layers.Dense(1, activation=None, name='classifier')(net)\r\n",
        "  return tf.keras.Model(text_input, net)"
      ],
      "execution_count": 25,
      "outputs": []
    },
    {
      "cell_type": "code",
      "metadata": {
        "id": "_XEBGxU9jOzg"
      },
      "source": [
        "classifier_model = BERTClassifier()"
      ],
      "execution_count": 26,
      "outputs": []
    },
    {
      "cell_type": "code",
      "metadata": {
        "id": "J8fLLnE5-rkP"
      },
      "source": [
        "loss = tf.keras.losses.BinaryCrossentropy(from_logits=True)\r\n",
        "metrics = tf.metrics.BinaryAccuracy()"
      ],
      "execution_count": 33,
      "outputs": []
    },
    {
      "cell_type": "code",
      "metadata": {
        "id": "3pIHtxft-wrk"
      },
      "source": [
        "epochs = 10\r\n",
        "optimizer = tf.keras.optimizers.Adam()"
      ],
      "execution_count": 39,
      "outputs": []
    },
    {
      "cell_type": "code",
      "metadata": {
        "id": "zXpnpNz0_wjM"
      },
      "source": [
        "classifier_model.compile(optimizer=optimizer,\r\n",
        "                         loss=loss,\r\n",
        "                         metrics=metrics)"
      ],
      "execution_count": 34,
      "outputs": []
    },
    {
      "cell_type": "markdown",
      "metadata": {
        "id": "MCH11CTCLTK-"
      },
      "source": [
        "Training the model"
      ]
    },
    {
      "cell_type": "code",
      "metadata": {
        "colab": {
          "base_uri": "https://localhost:8080/"
        },
        "id": "xhoRJUFZAJ3n",
        "outputId": "e6724ea5-585d-4a6b-8e1d-d5d94f4ffc35"
      },
      "source": [
        "history = classifier_model.fit(X_train,y_train, validation_data=(X_test,y_test), epochs=epochs)"
      ],
      "execution_count": 40,
      "outputs": [
        {
          "output_type": "stream",
          "text": [
            "Epoch 1/10\n",
            "185/185 [==============================] - 698s 4s/step - loss: 0.4828 - binary_accuracy: 0.7591 - val_loss: 0.5871 - val_binary_accuracy: 0.7525\n",
            "Epoch 2/10\n",
            "185/185 [==============================] - 697s 4s/step - loss: 0.4105 - binary_accuracy: 0.8315 - val_loss: 0.6949 - val_binary_accuracy: 0.7221\n",
            "Epoch 3/10\n",
            "185/185 [==============================] - 704s 4s/step - loss: 0.4843 - binary_accuracy: 0.7789 - val_loss: 0.5982 - val_binary_accuracy: 0.7187\n",
            "Epoch 4/10\n",
            "185/185 [==============================] - 707s 4s/step - loss: 0.3947 - binary_accuracy: 0.8342 - val_loss: 0.7356 - val_binary_accuracy: 0.7059\n",
            "Epoch 5/10\n",
            "185/185 [==============================] - 703s 4s/step - loss: 0.3429 - binary_accuracy: 0.8622 - val_loss: 0.6492 - val_binary_accuracy: 0.7323\n",
            "Epoch 6/10\n",
            "185/185 [==============================] - 709s 4s/step - loss: 0.3064 - binary_accuracy: 0.8818 - val_loss: 0.6717 - val_binary_accuracy: 0.7323\n",
            "Epoch 7/10\n",
            "185/185 [==============================] - 724s 4s/step - loss: 0.2894 - binary_accuracy: 0.8957 - val_loss: 0.7202 - val_binary_accuracy: 0.7268\n",
            "Epoch 8/10\n",
            "185/185 [==============================] - 720s 4s/step - loss: 0.2761 - binary_accuracy: 0.8960 - val_loss: 0.7799 - val_binary_accuracy: 0.7140\n",
            "Epoch 9/10\n",
            "185/185 [==============================] - 723s 4s/step - loss: 0.2794 - binary_accuracy: 0.8981 - val_loss: 0.8141 - val_binary_accuracy: 0.6991\n",
            "Epoch 10/10\n",
            "185/185 [==============================] - 735s 4s/step - loss: 0.2523 - binary_accuracy: 0.9079 - val_loss: 0.8153 - val_binary_accuracy: 0.7343\n"
          ],
          "name": "stdout"
        }
      ]
    },
    {
      "cell_type": "code",
      "metadata": {
        "colab": {
          "base_uri": "https://localhost:8080/"
        },
        "id": "wMSwUpw4DJfC",
        "outputId": "44b8e8f4-5660-49f8-983f-4a2cb7b9bf14"
      },
      "source": [
        "score= classifier_model.evaluate(X_test, y_test, verbose = 2)"
      ],
      "execution_count": 106,
      "outputs": [
        {
          "output_type": "stream",
          "text": [
            "47/47 - 52s - loss: 0.8153 - binary_accuracy: 0.7343\n"
          ],
          "name": "stdout"
        }
      ]
    },
    {
      "cell_type": "markdown",
      "metadata": {
        "id": "Y5e1ysfoLbUW"
      },
      "source": [
        "Loading Test Dataset"
      ]
    },
    {
      "cell_type": "code",
      "metadata": {
        "id": "8UFEOCbfAST0"
      },
      "source": [
        "test_file = pd.read_csv('drive/MyDrive/Stumble/test.tsv', sep='\\t')"
      ],
      "execution_count": 41,
      "outputs": []
    },
    {
      "cell_type": "code",
      "metadata": {
        "id": "bTm-0cZ50SB0"
      },
      "source": [
        "test_file.drop(columns=['url', 'alchemy_category',\r\n",
        "       'alchemy_category_score', 'avglinksize', 'commonlinkratio_1',\r\n",
        "       'commonlinkratio_2', 'commonlinkratio_3', 'commonlinkratio_4',\r\n",
        "       'compression_ratio', 'embed_ratio', 'framebased', 'frameTagRatio',\r\n",
        "       'hasDomainLink', 'html_ratio', 'image_ratio', 'is_news',\r\n",
        "       'lengthyLinkDomain', 'linkwordscore', 'news_front_page',\r\n",
        "       'non_markup_alphanum_characters', 'numberOfLinks', 'numwords_in_url',\r\n",
        "       'parametrizedLinkRatio', 'spelling_errors_ratio'], axis=1,inplace=True)"
      ],
      "execution_count": 42,
      "outputs": []
    },
    {
      "cell_type": "markdown",
      "metadata": {
        "id": "3_kdDit8LfEM"
      },
      "source": [
        "Saving our model for future use"
      ]
    },
    {
      "cell_type": "code",
      "metadata": {
        "colab": {
          "base_uri": "https://localhost:8080/"
        },
        "id": "SIi8a7Q50hUN",
        "outputId": "7170a803-b38c-46d7-b856-0a57f26690a0"
      },
      "source": [
        "classifier_model.save('drive/MyDrive/Stumble/MyModel',include_optimizer=False)"
      ],
      "execution_count": 44,
      "outputs": [
        {
          "output_type": "stream",
          "text": [
            "WARNING:absl:Found untraced functions such as restored_function_body, restored_function_body, restored_function_body, restored_function_body, restored_function_body while saving (showing 5 of 160). These functions will not be directly callable after loading.\n",
            "WARNING:absl:Found untraced functions such as restored_function_body, restored_function_body, restored_function_body, restored_function_body, restored_function_body while saving (showing 5 of 160). These functions will not be directly callable after loading.\n"
          ],
          "name": "stderr"
        },
        {
          "output_type": "stream",
          "text": [
            "INFO:tensorflow:Assets written to: drive/MyDrive/Stumble/MyModel/assets\n"
          ],
          "name": "stdout"
        },
        {
          "output_type": "stream",
          "text": [
            "INFO:tensorflow:Assets written to: drive/MyDrive/Stumble/MyModel/assets\n"
          ],
          "name": "stderr"
        }
      ]
    },
    {
      "cell_type": "markdown",
      "metadata": {
        "id": "cXzOFzJOLk29"
      },
      "source": [
        "Evaluating with test dataset"
      ]
    },
    {
      "cell_type": "code",
      "metadata": {
        "colab": {
          "base_uri": "https://localhost:8080/"
        },
        "id": "MSWcQ55J2EuC",
        "outputId": "323f82a8-d6c3-4df4-a392-513949030f39"
      },
      "source": [
        "reloaded_model = tf.saved_model.load('drive/MyDrive/Stumble/MyModel')"
      ],
      "execution_count": 45,
      "outputs": [
        {
          "output_type": "stream",
          "text": [
            "WARNING:tensorflow:5 out of the last 5 calls to <function recreate_function.<locals>.restored_function_body at 0x7f2d83d4fb70> triggered tf.function retracing. Tracing is expensive and the excessive number of tracings could be due to (1) creating @tf.function repeatedly in a loop, (2) passing tensors with different shapes, (3) passing Python objects instead of tensors. For (1), please define your @tf.function outside of the loop. For (2), @tf.function has experimental_relax_shapes=True option that relaxes argument shapes that can avoid unnecessary retracing. For (3), please refer to https://www.tensorflow.org/guide/function#controlling_retracing and https://www.tensorflow.org/api_docs/python/tf/function for  more details.\n"
          ],
          "name": "stdout"
        },
        {
          "output_type": "stream",
          "text": [
            "WARNING:tensorflow:5 out of the last 5 calls to <function recreate_function.<locals>.restored_function_body at 0x7f2d83d4fb70> triggered tf.function retracing. Tracing is expensive and the excessive number of tracings could be due to (1) creating @tf.function repeatedly in a loop, (2) passing tensors with different shapes, (3) passing Python objects instead of tensors. For (1), please define your @tf.function outside of the loop. For (2), @tf.function has experimental_relax_shapes=True option that relaxes argument shapes that can avoid unnecessary retracing. For (3), please refer to https://www.tensorflow.org/guide/function#controlling_retracing and https://www.tensorflow.org/api_docs/python/tf/function for  more details.\n"
          ],
          "name": "stderr"
        },
        {
          "output_type": "stream",
          "text": [
            "WARNING:tensorflow:6 out of the last 6 calls to <function recreate_function.<locals>.restored_function_body at 0x7f2d83d570d0> triggered tf.function retracing. Tracing is expensive and the excessive number of tracings could be due to (1) creating @tf.function repeatedly in a loop, (2) passing tensors with different shapes, (3) passing Python objects instead of tensors. For (1), please define your @tf.function outside of the loop. For (2), @tf.function has experimental_relax_shapes=True option that relaxes argument shapes that can avoid unnecessary retracing. For (3), please refer to https://www.tensorflow.org/guide/function#controlling_retracing and https://www.tensorflow.org/api_docs/python/tf/function for  more details.\n"
          ],
          "name": "stdout"
        },
        {
          "output_type": "stream",
          "text": [
            "WARNING:tensorflow:6 out of the last 6 calls to <function recreate_function.<locals>.restored_function_body at 0x7f2d83d570d0> triggered tf.function retracing. Tracing is expensive and the excessive number of tracings could be due to (1) creating @tf.function repeatedly in a loop, (2) passing tensors with different shapes, (3) passing Python objects instead of tensors. For (1), please define your @tf.function outside of the loop. For (2), @tf.function has experimental_relax_shapes=True option that relaxes argument shapes that can avoid unnecessary retracing. For (3), please refer to https://www.tensorflow.org/guide/function#controlling_retracing and https://www.tensorflow.org/api_docs/python/tf/function for  more details.\n"
          ],
          "name": "stderr"
        }
      ]
    },
    {
      "cell_type": "code",
      "metadata": {
        "id": "KCIlzTBw8p6h"
      },
      "source": [
        "pre_process(test_file)"
      ],
      "execution_count": 61,
      "outputs": []
    },
    {
      "cell_type": "code",
      "metadata": {
        "id": "a4zAmM1E2PVa"
      },
      "source": [
        "results = tf.sigmoid(reloaded_model(tf.constant(test_file['boilerplate'])))"
      ],
      "execution_count": 63,
      "outputs": []
    },
    {
      "cell_type": "code",
      "metadata": {
        "id": "vYBcajGt7cKb"
      },
      "source": [
        "test_file['label']=np.nan"
      ],
      "execution_count": 59,
      "outputs": []
    },
    {
      "cell_type": "code",
      "metadata": {
        "id": "mIHgBQrj3a51"
      },
      "source": [
        "for j in range((len(results)-1)):\r\n",
        "  if results[j]>(0.9):\r\n",
        "    test_file['label'][j]=int(1)\r\n",
        "  else: test_file['label'][j]=int(0)"
      ],
      "execution_count": 105,
      "outputs": []
    },
    {
      "cell_type": "code",
      "metadata": {
        "colab": {
          "base_uri": "https://localhost:8080/"
        },
        "id": "UwzEXerm_amL",
        "outputId": "4d2f031a-54db-49e4-e735-18062115a361"
      },
      "source": [
        "test_file=test_file.fillna(0)\r\n",
        "test_file.label.astype(int)"
      ],
      "execution_count": 103,
      "outputs": [
        {
          "output_type": "execute_result",
          "data": {
            "text/plain": [
              "0       1\n",
              "1       0\n",
              "2       0\n",
              "3       1\n",
              "4       1\n",
              "       ..\n",
              "3166    1\n",
              "3167    1\n",
              "3168    1\n",
              "3169    1\n",
              "3170    0\n",
              "Name: label, Length: 3171, dtype: int64"
            ]
          },
          "metadata": {
            "tags": []
          },
          "execution_count": 103
        }
      ]
    },
    {
      "cell_type": "code",
      "metadata": {
        "id": "OKGR2QIJ53Mq"
      },
      "source": [
        "test_file.drop('boilerplate',axis=1,inplace=True)"
      ],
      "execution_count": 84,
      "outputs": []
    },
    {
      "cell_type": "code",
      "metadata": {
        "colab": {
          "base_uri": "https://localhost:8080/",
          "height": 204
        },
        "id": "KGDOSgvV-_mF",
        "outputId": "6e7e9e63-017d-4b8a-c3c4-f405b82fd076"
      },
      "source": [
        "test_file.head()"
      ],
      "execution_count": 104,
      "outputs": [
        {
          "output_type": "execute_result",
          "data": {
            "text/html": [
              "<div>\n",
              "<style scoped>\n",
              "    .dataframe tbody tr th:only-of-type {\n",
              "        vertical-align: middle;\n",
              "    }\n",
              "\n",
              "    .dataframe tbody tr th {\n",
              "        vertical-align: top;\n",
              "    }\n",
              "\n",
              "    .dataframe thead th {\n",
              "        text-align: right;\n",
              "    }\n",
              "</style>\n",
              "<table border=\"1\" class=\"dataframe\">\n",
              "  <thead>\n",
              "    <tr style=\"text-align: right;\">\n",
              "      <th></th>\n",
              "      <th>urlid</th>\n",
              "      <th>label</th>\n",
              "    </tr>\n",
              "  </thead>\n",
              "  <tbody>\n",
              "    <tr>\n",
              "      <th>0</th>\n",
              "      <td>5865</td>\n",
              "      <td>1.0</td>\n",
              "    </tr>\n",
              "    <tr>\n",
              "      <th>1</th>\n",
              "      <td>782</td>\n",
              "      <td>0.0</td>\n",
              "    </tr>\n",
              "    <tr>\n",
              "      <th>2</th>\n",
              "      <td>6962</td>\n",
              "      <td>0.0</td>\n",
              "    </tr>\n",
              "    <tr>\n",
              "      <th>3</th>\n",
              "      <td>7640</td>\n",
              "      <td>1.0</td>\n",
              "    </tr>\n",
              "    <tr>\n",
              "      <th>4</th>\n",
              "      <td>3589</td>\n",
              "      <td>1.0</td>\n",
              "    </tr>\n",
              "  </tbody>\n",
              "</table>\n",
              "</div>"
            ],
            "text/plain": [
              "   urlid  label\n",
              "0   5865    1.0\n",
              "1    782    0.0\n",
              "2   6962    0.0\n",
              "3   7640    1.0\n",
              "4   3589    1.0"
            ]
          },
          "metadata": {
            "tags": []
          },
          "execution_count": 104
        }
      ]
    },
    {
      "cell_type": "markdown",
      "metadata": {
        "id": "m8yDxvngL-R4"
      },
      "source": [
        "Saving the Predicted Dataset into a csv file"
      ]
    },
    {
      "cell_type": "code",
      "metadata": {
        "id": "keBazKQ7AmIq"
      },
      "source": [
        "test_file.to_csv('drive/MyDrive/Stumble/submit3.csv', index=False)"
      ],
      "execution_count": 101,
      "outputs": []
    },
    {
      "cell_type": "code",
      "metadata": {
        "id": "0LZ3uAsNGxSY"
      },
      "source": [
        ""
      ],
      "execution_count": null,
      "outputs": []
    }
  ]
}